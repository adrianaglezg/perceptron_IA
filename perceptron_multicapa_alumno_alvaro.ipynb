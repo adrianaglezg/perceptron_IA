{
 "cells": [
  {
   "cell_type": "markdown",
   "metadata": {},
   "source": [
    "### Actividad de perceptrón y perceptrón multicapa - Álvaro Ramiro y Adriana González\n",
    "#### Autor: Francisco Serradilla\n",
    "\n",
    "Tareas:\n",
    "\n",
    "- Escribir el código de propagación y actualización de pesos del perceptrón.\n",
    "- Escribir el código de propagación y actualización de pesos del perceptrón multicapa para una capa oculta.\n",
    "- Probar el correcto funcionamiento con OR y con XOR.\n",
    "- Probar el correcto funcionamiento para las distribuciones generadas en el notebook. Dibujar los resultados.\n",
    "\n",
    "Opcional:\n",
    "- Problema de clasificación de orquídeas.\n",
    "- Ampliar el código del perceptrón Multicapa para calcular el error de test usando otro conjunto de datos. Este error de test se irá mostrando a la vez que el error de entrenamiento mientras la red se entrena.\n",
    "- Probar entrenamiento y cálculo del error de test con el juego de datos de aprobados.\n",
    "- (hacer al menos dos) Probar con problemas adicionales (circulo, fun, morosos, quinielas). Al final hay una explicación de los conjuntos de datos suministrados.\n",
    "- (opcional) Añadir una segunda capa oculta al perceptrón multacapa y/o un múmero indefinido de capas."
   ]
  },
  {
   "cell_type": "code",
   "execution_count": 2,
   "metadata": {},
   "outputs": [],
   "source": [
    "import numpy as np\n",
    "\n",
    "class Perceptron:\n",
    "    def __init__(self, ninput, noutput):\n",
    "        self.ninput = ninput # número de entradas\n",
    "        self.noutput = noutput # número de salidas\n",
    "        self.w = np.random.rand(ninput,noutput)-0.5 # pesos\n",
    "        self.b = np.random.rand(noutput)-0.5 # bias\n",
    "        \n",
    "    def forward (self, x): # propaga un vector x y devuelve la salida\n",
    "        neta = x @ self.w + self.b  # Calculo neta\n",
    "        s = np.array(list(map(lambda x: 1 if x > 0 else 0, neta.tolist())))  # Aplico la función de activación de escalón\n",
    "        return s\n",
    "        \n",
    "    def update (self, x, d, alpha): # realiza una iteración de entrenamiento\n",
    "        s = self.forward(x) # propaga\n",
    "        error = d - s\n",
    "        error = error.reshape(1, -1)\n",
    "        variacion_pesos = alpha * (x.reshape(1,-1).T @ error)\n",
    "        self.w += variacion_pesos  # calcula actualización de pesos para una entrada x\n",
    "       \n",
    "    def RMS (self, X, D): # calcula el error RMS\n",
    "        S = np.array([self.forward(x) for x in X])\n",
    "        return np.mean(np.sqrt(np.mean(np.square(S-D),axis=1)))\n",
    "        \n",
    "    def accuracy (self, X, D): # calcula el ratio de aciertos\n",
    "        S = np.array([self.forward(x) for x in X])\n",
    "        errors = np.mean(np.abs(D-S))\n",
    "        return 1.0 - errors\n",
    "    \n",
    "    def info (self, X, D): # traza de cómo va el entrenamiento\n",
    "        print('     RMS: %6.5f' % self.RMS(X,D))\n",
    "        print('Accuracy: %6.5f' % self.accuracy(X,D))\n",
    "        \n",
    "    def train (self, X, D, alpha, epochs, trace=0): # entrena usando update\n",
    "        for e in range(1,epochs+1): # para cada epoch\n",
    "            for i in range(len(X)): # para cada ejemplo\n",
    "                self.update(X[i],D[i], alpha)\n",
    "            if trace!=0 and e%trace == 0: # imprime trazas\n",
    "                print('\\n   Epoch: %d' % e)\n",
    "                self.info(X,D)"
   ]
  },
  {
   "cell_type": "code",
   "execution_count": 3,
   "metadata": {},
   "outputs": [
    {
     "name": "stdout",
     "output_type": "stream",
     "text": [
      "     RMS: 0.25000\n",
      "Accuracy: 0.75000\n",
      "\n",
      "   Epoch: 10\n",
      "     RMS: 0.25000\n",
      "Accuracy: 0.75000\n",
      "\n",
      "   Epoch: 20\n",
      "     RMS: 0.25000\n",
      "Accuracy: 0.75000\n",
      "\n",
      "   Epoch: 30\n",
      "     RMS: 0.25000\n",
      "Accuracy: 0.75000\n",
      "\n",
      "   Epoch: 40\n",
      "     RMS: 0.25000\n",
      "Accuracy: 0.75000\n",
      "\n",
      "   Epoch: 50\n",
      "     RMS: 0.25000\n",
      "Accuracy: 0.75000\n",
      "\n",
      "   Epoch: 60\n",
      "     RMS: 0.25000\n",
      "Accuracy: 0.75000\n",
      "\n",
      "   Epoch: 70\n",
      "     RMS: 0.25000\n",
      "Accuracy: 0.75000\n",
      "\n",
      "   Epoch: 80\n",
      "     RMS: 0.25000\n",
      "Accuracy: 0.75000\n",
      "\n",
      "   Epoch: 90\n",
      "     RMS: 0.25000\n",
      "Accuracy: 0.75000\n",
      "\n",
      "   Epoch: 100\n",
      "     RMS: 0.25000\n",
      "Accuracy: 0.75000\n"
     ]
    }
   ],
   "source": [
    "# entrena para la OR\n",
    "p = Perceptron(2,1)\n",
    "\n",
    "# or\n",
    "data = np.array([[0.0, 0.0], [0.0, 1.0], [1.0, 0.0], [1.0, 1.0]])\n",
    "labels = np.array([[0.0], [1.0], [1.0], [1.0]])\n",
    "\n",
    "p.info(data, labels)\n",
    "p.train(data, labels, 0.01, 100, 10)"
   ]
  },
  {
   "cell_type": "code",
   "execution_count": 1,
   "metadata": {},
   "outputs": [],
   "source": [
    "import numpy as np\n",
    "\n",
    "class Multilayer:\n",
    "    def __init__(self, ninput, nhidden, noutput):\n",
    "        '''\n",
    "        ninput: número de neuronas de entrada\n",
    "        nhidden: número de neuronas ocultas\n",
    "        noutput: número de neuronas de salida\n",
    "        '''\n",
    "        self.ninput = ninput # número de entradas\n",
    "        self.nhidden = nhidden # número de neuronas en capa oculta\n",
    "        self.noutput = noutput # número de salidas\n",
    "\n",
    "        # pesos y bías de la capa 1\n",
    "        self.w1 = np.random.rand(ninput,nhidden)-0.5\n",
    "        self.b1 = np.random.rand(nhidden)-0.5\n",
    "        # pesos y bías de la capa 2\n",
    "        self.w2 = np.random.rand(nhidden,noutput)-0.5\n",
    "        self.b2 = np.random.rand(noutput)-0.5\n",
    "        \n",
    "        self.lRMS = [] # contiene la lista de RMSs para pintarlos luego\n",
    "        self.laccuracy = [] # contiene la lista de accuracy para pintar luego\n",
    "\n",
    "    def sigm(self, neta): # función sigmoidal\n",
    "        return 1.0 / (1.0 + np.exp(-neta))\n",
    "    \n",
    "    def forward (self, x): # propaga un vector x y devuelve la salida\n",
    "        s1 = self.sigm(x @ self.w1 + self.b1)  # Calculo s1\n",
    "        s2 = self.sigm(s1 @ self.w2 + self.b2)  # Calculo s1 \n",
    "        return s2\n",
    "    \n",
    "    def update (self, x, d, alpha): # realiza una iteración de entrenamiento\n",
    "        s1 = self.sigm(x @ self.w1 + self.b1)  # Calculo s1\n",
    "        s2 = self.sigm(s1 @ self.w2 + self.b2) # Calculo s2\n",
    "\n",
    "        delta2 = (d - s2) * s2 * (1 - s2)\n",
    "\n",
    "        V1 = delta2.reshape(1,-1) @ self.w2.T\n",
    "        delta1 = V1 * s1 * ([1] - s1)\n",
    "\n",
    "        AW1 = alpha * (x.reshape(1,-1).T @ delta1.reshape(1,-1))\n",
    "        AW1 = AW1.reshape(self.w1.shape)\n",
    "        AW2 = alpha * (s1.reshape(1,-1).T @ delta2.reshape(1,-1))\n",
    "        AW2 = AW2.reshape(self.w2.shape)\n",
    "\n",
    "        Ab1 = alpha * delta1.reshape(1,-1)\n",
    "        Ab1 = Ab1.reshape(self.b1.shape)\n",
    "        Ab2 = alpha * delta2.reshape(1,-1)\n",
    "        Ab2 = Ab2.reshape(self.b2.shape)\n",
    "\n",
    "        self.w1 += AW1\n",
    "        self.w2 += AW2\n",
    "        self.b1 += Ab1\n",
    "        self.b2 += Ab2\n",
    "\n",
    "    def RMS (self, X, D): # error RMS\n",
    "        S = np.array([self.forward(x) for x in X])\n",
    "        return np.mean(np.sqrt(np.mean(np.square(S-D),axis=1)))\n",
    "        \n",
    "    def accuracy (self, X, D): # calcula ratio de aciertos\n",
    "        S = np.array([self.forward(x) for x in X])\n",
    "        S = np.round(S)\n",
    "        errors = np.mean(np.abs(D-S))\n",
    "        return 1.0 - errors\n",
    "    \n",
    "    def info (self, X, D): # escribe traza\n",
    "        self.lRMS.append(self.RMS(X,D))\n",
    "        self.laccuracy.append(self.accuracy(X,D))\n",
    "        print('     RMS: %6.5f' % self.lRMS[-1])\n",
    "        print('Accuracy: %6.5f' % self.laccuracy[-1])\n",
    "        \n",
    "    def train (self, X, D, alpha, epochs, trace=0): # entrena usando update\n",
    "        self.lRMS = [] # guarda lista de RMSs para pintarlos\n",
    "        self.laccuracy = [] # guarda lista de accuracy\n",
    "\n",
    "        for e in range(1,epochs+1): # para cada epoch\n",
    "            for i in range(len(X)): # para cada ejemplo\n",
    "                self.update(X[i],D[i], alpha)\n",
    "            if trace!=0 and e%trace == 0: # escribe traza si corresponde\n",
    "                print('\\n   Epoch: %d' % e)\n",
    "                self.info(X,D)\n",
    "                \n",
    "def one_hot (d): # codificación one_hot\n",
    "    num_classes = len(set(d))\n",
    "    rows = d.shape[0]\n",
    "    labels = np.zeros((rows, num_classes), dtype='float32')\n",
    "    labels[np.arange(rows),d.T] = 1\n",
    "    return labels"
   ]
  },
  {
   "cell_type": "code",
   "execution_count": 58,
   "metadata": {},
   "outputs": [
    {
     "name": "stdout",
     "output_type": "stream",
     "text": [
      "     RMS: 0.50027\n",
      "Accuracy: 0.50000\n"
     ]
    }
   ],
   "source": [
    "# xor\n",
    "data = np.array([[0.0, 0.0], [0.0, 1.0], [1.0, 0.0], [1.0, 1.0]])\n",
    "labels = np.array([[0.0], [1.0], [1.0], [0.0]])\n",
    "\n",
    "p = Multilayer(2,3,1)\n",
    "p.info(data, labels)"
   ]
  },
  {
   "cell_type": "code",
   "execution_count": 61,
   "metadata": {},
   "outputs": [
    {
     "name": "stdout",
     "output_type": "stream",
     "text": [
      "\n",
      "   Epoch: 20\n",
      "     RMS: 0.34531\n",
      "Accuracy: 0.75000\n",
      "\n",
      "   Epoch: 40\n",
      "     RMS: 0.34112\n",
      "Accuracy: 0.75000\n",
      "\n",
      "   Epoch: 60\n",
      "     RMS: 0.27424\n",
      "Accuracy: 0.75000\n",
      "\n",
      "   Epoch: 80\n",
      "     RMS: 0.05653\n",
      "Accuracy: 1.00000\n",
      "\n",
      "   Epoch: 100\n",
      "     RMS: 0.04419\n",
      "Accuracy: 1.00000\n"
     ]
    }
   ],
   "source": [
    "p.train(data, labels, 10, 100, 20)"
   ]
  },
  {
   "cell_type": "code",
   "execution_count": 62,
   "metadata": {},
   "outputs": [
    {
     "data": {
      "text/plain": [
       "array([0.02706582])"
      ]
     },
     "execution_count": 62,
     "metadata": {},
     "output_type": "execute_result"
    }
   ],
   "source": [
    "p.forward(np.array([0,0]))"
   ]
  },
  {
   "cell_type": "code",
   "execution_count": 63,
   "metadata": {},
   "outputs": [
    {
     "data": {
      "image/png": "[encoded data removed]",
      "text/plain": [
       "<Figure size 640x480 with 1 Axes>"
      ]
     },
     "metadata": {},
     "output_type": "display_data"
    }
   ],
   "source": [
    "import numpy as np\n",
    "\n",
    "# example data from two classes; 2D normal distributions\n",
    "num = 100\n",
    "x0 = np.random.multivariate_normal([2,2], np.array([[1,0],[0,1]]),num)\n",
    "d0 = np.repeat(0, num)\n",
    "x1 = np.random.multivariate_normal([-2,-2], np.array([[1,0],[0,1]]),num)\n",
    "d1 = np.repeat(1, num)\n",
    "\n",
    "import matplotlib.pyplot as plt\n",
    "plt.xlim(-6,6)\n",
    "plt.ylim(-6,6)\n",
    "plt.plot(x0[:,0],x0[:,1],'o')\n",
    "plt.plot(x1[:,0],x1[:,1],'o')\n",
    "\n",
    "plt.show()\n",
    "\n",
    "X = np.vstack((x0,x1))\n",
    "d = np.hstack((d0,d1))\n",
    "d.shape = (200,1) # convierte el vector en un array"
   ]
  },
  {
   "cell_type": "code",
   "execution_count": 69,
   "metadata": {},
   "outputs": [
    {
     "name": "stdout",
     "output_type": "stream",
     "text": [
      "\n",
      "   Epoch: 5\n",
      "     RMS: 0.00000\n",
      "Accuracy: 1.00000\n",
      "\n",
      "   Epoch: 10\n",
      "     RMS: 0.00000\n",
      "Accuracy: 1.00000\n"
     ]
    }
   ],
   "source": [
    "# entrenar\n",
    "p = Perceptron(2,1)\n",
    "p.train(X, d, 0.01, 10, 5)"
   ]
  },
  {
   "cell_type": "code",
   "execution_count": 70,
   "metadata": {},
   "outputs": [
    {
     "data": {
      "text/plain": [
       "[<matplotlib.lines.Line2D at 0x2a0a9285790>]"
      ]
     },
     "execution_count": 70,
     "metadata": {},
     "output_type": "execute_result"
    },
    {
     "data": {
      "image/png": "[encoded data removed]",
      "text/plain": [
       "<Figure size 640x480 with 1 Axes>"
      ]
     },
     "metadata": {},
     "output_type": "display_data"
    }
   ],
   "source": [
    "# Dibujar el resultado de la clasificación por el perceptrón\n",
    "\n",
    "preds = list(zip(X.tolist(), [p.forward(x).tolist()[0] for x in X]))\n",
    "pred0 = np.array([point for point, pred in preds if pred == 0])\n",
    "pred1 = np.array([point for point, pred in preds if pred == 1])\n",
    "plt.xlim(-6,6)\n",
    "plt.ylim(-6,6)\n",
    "plt.plot(pred0[:,0],pred0[:,1],'o')\n",
    "plt.plot(pred1[:,0],pred1[:,1],'o')"
   ]
  },
  {
   "cell_type": "code",
   "execution_count": 55,
   "metadata": {},
   "outputs": [
    {
     "data": {
      "image/png": "[encoded data removed]",
      "text/plain": [
       "<Figure size 640x480 with 1 Axes>"
      ]
     },
     "metadata": {},
     "output_type": "display_data"
    }
   ],
   "source": [
    "# regiones no lineales\n",
    "\n",
    "X = np.loadtxt('samples/data_3classes_nonlinear_2D.txt')\n",
    "\n",
    "d = X[:,-1].astype('int')\n",
    "X = X[:,:-1]\n",
    "\n",
    "plt.figure()\n",
    "plt.xlim(0,1)\n",
    "plt.ylim(0,1)\n",
    "plt.plot(X[d==0,0],X[d==0,1], 'ro')\n",
    "plt.plot(X[d==1,0],X[d==1,1], 'go')\n",
    "plt.plot(X[d==2,0],X[d==2,1], 'bo')\n",
    "plt.show()\n",
    "\n",
    "no = len(set(d))\n",
    "ni = X.shape[1]\n",
    "\n",
    "d = one_hot(d)"
   ]
  },
  {
   "cell_type": "code",
   "execution_count": 58,
   "metadata": {},
   "outputs": [
    {
     "name": "stdout",
     "output_type": "stream",
     "text": [
      "\n",
      "   Epoch: 200\n",
      "     RMS: 0.26028\n",
      "Accuracy: 0.84127\n",
      "\n",
      "   Epoch: 400\n",
      "     RMS: 0.19608\n",
      "Accuracy: 0.88413\n",
      "\n",
      "   Epoch: 600\n",
      "     RMS: 0.11732\n",
      "Accuracy: 0.97460\n",
      "\n",
      "   Epoch: 800\n",
      "     RMS: 0.06888\n",
      "Accuracy: 0.99524\n",
      "\n",
      "   Epoch: 1000\n",
      "     RMS: 0.04890\n",
      "Accuracy: 1.00000\n",
      "     RMS: 0.04890\n",
      "Accuracy: 1.00000\n"
     ]
    }
   ],
   "source": [
    "# entrenar\n",
    "# encontrar arquitectura mínima que aprende este problema, para data_2classes_nonlinear_2D.txt y para data_3classes_nonlinear_2D.txt\n",
    "p = Multilayer(ni,5,no)  # Con 5 neuronas en la capa oculta lo logra resolver\n",
    "p.train(X, d, 0.1, 1000, 200)\n",
    "p.info(X, d)"
   ]
  },
  {
   "cell_type": "code",
   "execution_count": 59,
   "metadata": {},
   "outputs": [
    {
     "data": {
      "text/plain": [
       "[<matplotlib.lines.Line2D at 0x1bc73543ad0>]"
      ]
     },
     "execution_count": 59,
     "metadata": {},
     "output_type": "execute_result"
    },
    {
     "data": {
      "image/png": "[encoded data removed]",
      "text/plain": [
       "<Figure size 640x480 with 1 Axes>"
      ]
     },
     "metadata": {},
     "output_type": "display_data"
    }
   ],
   "source": [
    "# Dibujar el resultado de la clasificación por el multicapa, comparar con las salidas que debería dar\n",
    "preds = list(zip(X.tolist(), [p.forward(x).tolist() for x in X]))\n",
    "preds0 = np.array([point for point, pred in preds if max(pred) == pred[0]])\n",
    "preds1 = np.array([point for point, pred in preds if max(pred) == pred[1]])\n",
    "preds2 = np.array([point for point, pred in preds if max(pred) == pred[2]])\n",
    "plt.xlim(0,1)\n",
    "plt.ylim(0,1)\n",
    "plt.plot(preds0[:,0],preds0[:,1],'ro')\n",
    "plt.plot(preds1[:,0],preds1[:,1],'go')\n",
    "plt.plot(preds2[:,0],preds2[:,1],'bo')\n"
   ]
  },
  {
   "cell_type": "code",
   "execution_count": 3,
   "metadata": {},
   "outputs": [
    {
     "data": {
      "image/png": "[encoded data removed]",
      "text/plain": [
       "<Figure size 640x480 with 1 Axes>"
      ]
     },
     "metadata": {},
     "output_type": "display_data"
    }
   ],
   "source": [
    "# regiones no lineales # data_2classes_nonlinear_2D\n",
    "import matplotlib.pyplot as plt\n",
    "\n",
    "X = np.loadtxt('samples/data_2classes_nonlinear_2D.txt')\n",
    "\n",
    "d = X[:,-1].astype('int')\n",
    "X = X[:,:-1]\n",
    "\n",
    "plt.figure()\n",
    "plt.xlim(0, 1)\n",
    "plt.ylim(0, 1)\n",
    "plt.plot(X[d==0,0],X[d==0,1], 'ro')\n",
    "plt.plot(X[d==1,0],X[d==1,1], 'go')\n",
    "plt.show()\n",
    "\n",
    "no = len(set(d))\n",
    "ni = X.shape[1]\n",
    "\n",
    "d = one_hot(d)"
   ]
  },
  {
   "cell_type": "code",
   "execution_count": 5,
   "metadata": {},
   "outputs": [
    {
     "name": "stdout",
     "output_type": "stream",
     "text": [
      "\n",
      "   Epoch: 250\n",
      "     RMS: 0.27971\n",
      "Accuracy: 0.79000\n",
      "\n",
      "   Epoch: 500\n",
      "     RMS: 0.27166\n",
      "Accuracy: 0.80500\n",
      "\n",
      "   Epoch: 750\n",
      "     RMS: 0.11371\n",
      "Accuracy: 1.00000\n",
      "\n",
      "   Epoch: 1000\n",
      "     RMS: 0.06151\n",
      "Accuracy: 1.00000\n",
      "     RMS: 0.06151\n",
      "Accuracy: 1.00000\n"
     ]
    }
   ],
   "source": [
    "# entrenar\n",
    "# encontrar arquitectura mínima que aprende este problema, para data_2classes_nonlinear_2D.txt y para data_3classes_nonlinear_2D.txt\n",
    "p = Multilayer(ni,5,no)  # Con 5 neuronas en la capa oculta lo logra resolver\n",
    "p.train(X, d, 0.1, 1000, 250)\n",
    "p.info(X, d)"
   ]
  },
  {
   "cell_type": "code",
   "execution_count": 6,
   "metadata": {},
   "outputs": [
    {
     "data": {
      "text/plain": [
       "[<matplotlib.lines.Line2D at 0x1d2b0b03490>]"
      ]
     },
     "execution_count": 6,
     "metadata": {},
     "output_type": "execute_result"
    },
    {
     "data": {
      "image/png": "[encoded data removed]",
      "text/plain": [
       "<Figure size 640x480 with 1 Axes>"
      ]
     },
     "metadata": {},
     "output_type": "display_data"
    }
   ],
   "source": [
    "# Dibujar el resultado de la clasificación por el multicapa, comparar con las salidas que debería dar\n",
    "preds = list(zip(X.tolist(), [p.forward(x).tolist() for x in X]))\n",
    "preds0 = np.array([point for point, pred in preds if max(pred) == pred[0]])\n",
    "preds1 = np.array([point for point, pred in preds if max(pred) == pred[1]])\n",
    "plt.xlim(0,1)\n",
    "plt.ylim(0,1)\n",
    "plt.plot(preds0[:,0],preds0[:,1],'ro')\n",
    "plt.plot(preds1[:,0],preds1[:,1],'go')"
   ]
  },
  {
   "cell_type": "code",
   "execution_count": null,
   "metadata": {},
   "outputs": [
    {
     "name": "stdout",
     "output_type": "stream",
     "text": [
      "\n",
      "   Epoch: 500\n",
      "     RMS: 0.09060\n",
      "Accuracy: 0.97556\n",
      "\n",
      "   Epoch: 1000\n",
      "     RMS: 0.05981\n",
      "Accuracy: 0.97778\n",
      "\n",
      "   Epoch: 1500\n",
      "     RMS: 0.05015\n",
      "Accuracy: 0.97778\n",
      "\n",
      "   Epoch: 2000\n",
      "     RMS: 0.04474\n",
      "Accuracy: 0.98444\n",
      "\n",
      "   Epoch: 2500\n",
      "     RMS: 0.04114\n",
      "Accuracy: 0.98667\n"
     ]
    }
   ],
   "source": [
    "# Orquideas\n",
    "\n",
    "X = np.loadtxt('samples/iris.csv', dtype = 'float64', usecols = [0,1,2,3])\n",
    "L = np.loadtxt('samples/iris.csv', dtype = str, usecols = [4]) \n",
    "\n",
    "# convierte la salida a enteros\n",
    "d = []\n",
    "options = ['Iris-setosa', 'Iris-versicolor', 'Iris-virginica']\n",
    "for e in L:\n",
    "    d.append(options.index(e))\n",
    "\n",
    "d = np.array(d)\n",
    "X = np.array(X)\n",
    "\n",
    "d = one_hot(d)\n",
    "\n",
    "ni = X.shape[1]\n",
    "no = len(options)\n",
    "\n",
    "# encontrar arquitectura mínima que aprende este problema\n",
    "\n",
    "p = Multilayer(ni,4,no)  # Con 4 neuronas en la capa oculta es suficiente para que el programa aprenda de forma casi perfecta el problema.\n",
    "p.train(X,d, 0.02, 2500, 500)  # Obtengo una accuracy de 0.98"
   ]
  },
  {
   "cell_type": "code",
   "execution_count": 12,
   "metadata": {},
   "outputs": [],
   "source": [
    "# multicapa 2 capas\n",
    "\n",
    "import numpy as np\n",
    "\n",
    "class Multilayer2:\n",
    "    def __init__(self, ninput, nhidden1, nhidden2, noutput):\n",
    "        self.ninput = ninput       \n",
    "        self.nhidden1 = nhidden1  # num neuronas primera capa oculta\n",
    "        self.nhidden2 = nhidden2  # num neuronas en la segunda capa oculta\n",
    "        self.noutput = noutput\n",
    "        \n",
    "        # pesos y bias capa oculta 1\n",
    "        self.w1 = np.random.rand(ninput, nhidden1) - 0.5\n",
    "        self.b1 = np.random.rand(nhidden1) - 0.5\n",
    "        \n",
    "        # psos y bias capa oculta 2\n",
    "        self.w2 = np.random.rand(nhidden1, nhidden2) - 0.5\n",
    "        self.b2 = np.random.rand(nhidden2) - 0.5\n",
    "        \n",
    "        # pesos y bias capa de salida\n",
    "        self.w3 = np.random.rand(nhidden2, noutput) - 0.5\n",
    "        self.b3 = np.random.rand(noutput) - 0.5\n",
    "\n",
    "    def sig(self, neta):\n",
    "        return 1.0 / (1.0 + np.exp(-neta))\n",
    "\n",
    "    def forward(self, x):\n",
    "        self.s1 = self.sig(x @ self.w1 + self.b1)  # s1\n",
    "        self.s2 = self.sig(self.s1 @ self.w2 + self.b2)  # s2\n",
    "        s3 = self.sig(self.s2 @ self.w3 + self.b3)  # s final\n",
    "        return s3\n",
    "\n",
    "    def update(self, x, d, alpha):\n",
    "        self.s1 = self.sig(x @ self.w1 + self.b1) # s1\n",
    "        self.s2 = self.sig(self.s1 @ self.w2 + self.b2)# s2\n",
    "        s3 = self.sig(self.s2 @ self.w3 + self.b3) # s3\n",
    "        \n",
    "        delta3 = (d - s3) * (1 - s3) * s3  # err salida\n",
    "        delta2 = (delta3 @ self.w3.T) * (1 - self.s2) * self.s2  # error capa oculta 2\n",
    "        delta1 = (delta2 @ self.w2.T) * (1 - self.s1) * self.s1  # error capa oculta 1\n",
    "\n",
    "        # ajuste de pesos y bias\n",
    "        A3 = alpha * (self.s2.reshape(-1, 1) @ delta3.reshape(1, -1))\n",
    "        A2 = alpha * (self.s1.reshape(-1, 1) @ delta2.reshape(1, -1))\n",
    "        A1 = alpha * (x.reshape(-1, 1) @ delta1.reshape(1, -1))\n",
    "        \n",
    "        self.w3 += A3\n",
    "        self.b3 += alpha * delta3\n",
    "        self.w2 += A2\n",
    "        self.b2 += alpha * delta2\n",
    "        self.w1 += A1\n",
    "        self.b1 += alpha * delta1\n",
    "\n",
    "    def RMS(self, X, D):\n",
    "        S = np.array([self.forward(x) for x in X])  \n",
    "        return np.sqrt(np.mean(np.square(S - D)))  \n",
    "\n",
    "\n",
    "    def accuracy(self, X, D):\n",
    "        S = np.array([self.forward(x) for x in X])\n",
    "        errors = np.mean(np.abs(D - S))\n",
    "        return 1.0 - errors\n",
    "    \n",
    "    def info (self, X, D): # escribe traza\n",
    "        self.lRMS.append(self.RMS(X,D))\n",
    "        self.laccuracy.append(self.accuracy(X,D))\n",
    "        print('     RMS: %6.5f' % self.lRMS[-1])\n",
    "        print('Accuracy: %6.5f' % self.laccuracy[-1])\n",
    "\n",
    "    def train(self, X, D, alpha, epochs, trace=0):\n",
    "        for e in range(1, epochs + 1):\n",
    "            for i in range(len(X)):\n",
    "                self.update(X[i], D[i], alpha)\n",
    "            if trace and e % trace == 0:\n",
    "                print(f\"Epoch {e}, RMS: {self.RMS(X, D):.6f}, Accuracy: {self.accuracy(X, D):.6f}\")\n",
    "\n",
    "    def one_hot (d): # codificación one_hot\n",
    "        num_classes = len(set(d))\n",
    "        rows = d.shape[0]\n",
    "        labels = np.zeros((rows, num_classes), dtype='float32')\n",
    "        labels[np.arange(rows),d.T] = 1\n",
    "        return labels\n",
    "\n"
   ]
  },
  {
   "cell_type": "code",
   "execution_count": 13,
   "metadata": {},
   "outputs": [
    {
     "name": "stdout",
     "output_type": "stream",
     "text": [
      "Epoch 1000, RMS: 0.499957, Accuracy: 0.500049\n",
      "Epoch 2000, RMS: 0.499954, Accuracy: 0.500052\n",
      "Epoch 3000, RMS: 0.499951, Accuracy: 0.500055\n",
      "Epoch 4000, RMS: 0.499948, Accuracy: 0.500059\n",
      "Epoch 5000, RMS: 0.499945, Accuracy: 0.500062\n",
      "Epoch 6000, RMS: 0.499942, Accuracy: 0.500065\n",
      "Epoch 7000, RMS: 0.499938, Accuracy: 0.500069\n",
      "Epoch 8000, RMS: 0.499935, Accuracy: 0.500073\n",
      "Epoch 9000, RMS: 0.499931, Accuracy: 0.500077\n",
      "Epoch 10000, RMS: 0.499927, Accuracy: 0.500081\n"
     ]
    }
   ],
   "source": [
    "data = np.array([[0.0, 0.0], [0.0, 1.0], [1.0, 0.0], [1.0, 1.0]])  # XOR\n",
    "labels = np.array([[0.0], [1.0], [1.0], [0.0]]) \n",
    "p = Multilayer2(2, 8, 7, 1)\n",
    "p.train(data, labels, alpha=0.01, epochs=10000, trace=1000)"
   ]
  },
  {
   "cell_type": "markdown",
   "metadata": {},
   "source": [
    "#### aprobados"
   ]
  },
  {
   "cell_type": "code",
   "execution_count": null,
   "metadata": {},
   "outputs": [],
   "source": [
    "import numpy as np\n",
    "\n",
    "train_data = np.loadtxt(\"samples/aprobado-ent.txt\")\n",
    "X_train = train_data[:, :-1]  # entradas: columnas 0 a 2\n",
    "y_train = train_data[:, -1:]  # salida: columna 3 (0 o 1)"
   ]
  },
  {
   "cell_type": "code",
   "execution_count": 18,
   "metadata": {},
   "outputs": [],
   "source": [
    "# normalizar datos\n",
    "mean = X_train.mean(axis=0)\n",
    "std = X_train.std(axis=0)\n",
    "\n",
    "X_train = (X_train - mean) / std\n",
    "X_test = (X_test - mean) / std"
   ]
  },
  {
   "cell_type": "code",
   "execution_count": 20,
   "metadata": {},
   "outputs": [
    {
     "name": "stdout",
     "output_type": "stream",
     "text": [
      "Epoch 500, RMS: 0.042348, Accuracy: 0.971896\n",
      "Epoch 1000, RMS: 0.024700, Accuracy: 0.984189\n",
      "Epoch 1500, RMS: 0.018543, Accuracy: 0.988211\n",
      "Epoch 2000, RMS: 0.015277, Accuracy: 0.990296\n",
      "Epoch 2500, RMS: 0.013206, Accuracy: 0.991603\n",
      "Epoch 3000, RMS: 0.011754, Accuracy: 0.992514\n",
      "Epoch 3500, RMS: 0.010670, Accuracy: 0.993192\n",
      "Epoch 4000, RMS: 0.009823, Accuracy: 0.993720\n",
      "Epoch 4500, RMS: 0.009139, Accuracy: 0.994146\n",
      "Epoch 5000, RMS: 0.008573, Accuracy: 0.994499\n"
     ]
    }
   ],
   "source": [
    "# creamos una red neuronal: notas , 5 neuronas en la capa oculta 1, 3 en la capa oculta 2, 1 salida\n",
    "model = Multilayer2(ninput=3, nhidden1=5, nhidden2=3, noutput=1)\n",
    "\n",
    "model.train(X_train, y_train, alpha=0.1, epochs=5000, trace=500)\n"
   ]
  },
  {
   "cell_type": "code",
   "execution_count": 21,
   "metadata": {},
   "outputs": [
    {
     "name": "stdout",
     "output_type": "stream",
     "text": [
      "RMS: 0.008573\n",
      "acc en test: 0.994499\n"
     ]
    },
    {
     "ename": "",
     "evalue": "",
     "output_type": "error",
     "traceback": [
      "\u001b[1;31mThe Kernel crashed while executing code in the current cell or a previous cell. \n",
      "\u001b[1;31mPlease review the code in the cell(s) to identify a possible cause of the failure. \n",
      "\u001b[1;31mClick <a href='https://aka.ms/vscodeJupyterKernelCrash'>here</a> for more info. \n",
      "\u001b[1;31mView Jupyter <a href='command:jupyter.viewOutput'>log</a> for further details."
     ]
    }
   ],
   "source": [
    "test_data = np.loadtxt(\"samples/aprobado-tst.txt\")\n",
    "X_test = train_data[:, :-1]  \n",
    "y_test = train_data[:, -1:]\n",
    "\n",
    "X_test = (X_test - mean) / std\n",
    "\n",
    "# evaluamos\n",
    "rms_test = model.RMS(X_test, y_test)\n",
    "accuracy_test = model.accuracy(X_test, y_test)\n",
    "\n",
    "print(f\"RMS: {rms_test:.6f}\")\n",
    "print(f\"acc en test: {accuracy_test:.6f}\")\n"
   ]
  },
  {
   "cell_type": "markdown",
   "metadata": {},
   "source": [
    "### Explicación de los archivos de datos suministrados\n",
    "\n",
    "**Nota**: en caso de que se suministre archivo xxx-trn.txt y xxx-tst.txt, se deberá entrenar con el trn y calcular luego el error de test con el tst. Lógicamente queremos un modelo cuyo error de test sea lo más bajo posible. Si no se suministra archivo de test no es necesario dividir en entrenamiento y test, y lo que se busca es el error más bajo en entrenamiento.\n",
    "\n",
    "#### Aprobados\n",
    "\n",
    "Contiene 3 entradas, correspondiente a la nota en 3 ejercicios, y 1 salida, que indica si el alumno aprobó o no. Se trataría de predecir si un alumno va a aprobar a partir de sus notas. Es un problema de clasificación.\n",
    "\n",
    "Cuestiones: ¿Es un problema lineal? ¿Puede aprenderla una red de neuronas?\n",
    "\n",
    "#### Fun\n",
    "\n",
    "Contiene 1 entrada y 1 salida, que son la *x* y la *y* de una función desconocida. Es un problema de ajuste o regresión.\n",
    "\n",
    "Cuestiones: ¿Es una función lineal? ¿Puede aprenderla una red de neuronas? ¿Puede decirnos la red qué función es?\n",
    "\n",
    "#### Morosos\n",
    "\n",
    "Contiene datos de morosidad de un banco. La idea es predecir si un nuevo cliente va a devolver un prestamo o no y utilizar esta predicción para concederle o denegarle el préstamo. Es un problema de clasificación.\n",
    "\n",
    "Tiene 9 entradas y 1 salida.\n",
    "\n",
    "Cuestiones: ¿Es una función lineal? ¿Cuál es el porcentaje de acierto estimado en test?\n",
    "\n",
    "#### Quinielas\n",
    "\n",
    "Contiene datos de quinielas deportivas. Tiene 60 entradas y 3 salidas (1, X, 2). Es un problema de clasificación.\n",
    "\n",
    "Cuestiones: ¿Cuál es el porcentaje de acierto estimado en test?\n",
    "\n",
    "#### Sensores\n",
    "\n",
    "Contiene datos de sensores y velocidades medias en la M-40. La idea es ver si se puede predecir la velocidad media en un punto que no tiene sensor a partir de las lecturas de los sensores en otros puntos. Es un problema de ajuste o regresión.\n",
    "\n",
    "Cuestiones: ¿Cuál es el porcentaje de acierto estimado en test?\n",
    "\n",
    "#### Circulo\n",
    "\n",
    "Es un problema de clasificación con 3 regiones concéntricas. No tiene conjunto de test, el objetivo es encontrar la red mínima que pueda clasificar correctamente todos los ejemplos.\n",
    "\n",
    "#### Encoder\n",
    "\n",
    "Es el problema clásico de utilizar una capa oculta para codificar patrones de 8 valores en una dimensión menor. El objetivo es entrenar un perceptrón 8-3-8 para que aprenda esta codificación en el 100% de los ejemplos.  Es un problema de clasificación.\n",
    "\n",
    "#### Pima-diabetes\n",
    "\n",
    "Contiene resultados de un conjunto de análisis y pruebas en personas que posteriormente desarrollaron o no diabetes. La idea es ver si se puede predecir si una persona va a desarrollar la enfermedad en el futuro.\n",
    "\n",
    "En este caso hay que separar aleatoriamente un 30% de ejemplos para tener una conjunto de test. Nota: se sugiere usar la función shuffle.\n",
    "\n",
    "Cuestiones: ¿Cuál es el porcentaje de acierto estimado en test?"
   ]
  },
  {
   "cell_type": "markdown",
   "metadata": {},
   "source": [
    "### Introducción a pytorch\n",
    "\n",
    "Características:\n",
    "  * Creado por FaceBook en 2017 fusionando las librerías torch y caffe.\n",
    "  * Es de código abierto.\n",
    "  * Incluye computación basada en tensores (similar a numpy) y con soporte de GPU, incluidas NVidia, AMD y Apple silicon.\n",
    "  * Incluye componentes para Redes de Neuronas y Deep Learning, tanto secuenciales como funcionales.\n",
    "\n",
    "Ventajas frente a tensorflow\n",
    " * Mayor comunidad; se adapta más rápido a las nuevas versiones de python.\n",
    " * No propietario, fuentes disponibles.\n",
    " * Soporte a GPU en AMD y Mac Silicon.\n",
    " * La documentación es MUY buena.\n",
    " * Es más claro el proceso de enviar y recibir objetos a la GPU.\n",
    " * Es más eficiente para el aprendizaje por refuerzo.\n",
    " * Ligeramente de más alto nivel que tensorflow, pero por debajo de keras.\n",
    "\n",
    "Desventajas\n",
    "  * No es de tan alto nivel como Keras:\n",
    "    * Requiere la implementación del bucle train.\n",
    "    * Requiere especificar en más detalle la arquitectura secuencial.\n",
    "    * Requiere calcular dentro del train las métricas de validación.\n",
    "    * Requiere mover expresamente los objetos a la GPU.\n",
    "    * Requiere retropropagar expresamente.\n",
    "    * Requiere indicar expresamente cuáles son los tensores sobre los que aplicar descenso del gradiente.\n",
    " \n",
    " Descarga y documentación.  \n",
    " https://pytorch.org\n",
    " \n",
    "#### Módulos relacionados\n",
    "\n",
    "  * torchvision: añade recursos para tratamiento de imágenes, incluyendo modelos preentrenados.\n",
    "  * torchtext: ídem para lenguaje natural.\n",
    "  * torchaudio: ídem para audio.\n",
    "\n",
    "#### Enlaces:\n",
    "\n",
    "  * Tutorial oficial: https://pytorch.org/tutorials/beginner/basics/intro.html\n",
    "  * Tutorial en youtube: https://www.youtube.com/watch?v=QetoD5LXlEg\n",
    "  "
   ]
  },
  {
   "cell_type": "markdown",
   "metadata": {},
   "source": [
    "### Capas básicas en torch.nn:\n",
    "  * De procesamiento (layers)\n",
    "    * Linear\n",
    "    * Conv2d\n",
    "    * ConvTranspose2d\n",
    "    * LSTM\n",
    "    * GRU\n",
    "    * Transformer\n",
    "    * Embeeding\n",
    "  * De activación\n",
    "    * Sigmoid\n",
    "    * Tanh\n",
    "    * ReLU\n",
    "    * LeakyReLU\n",
    "    * Softmax\n",
    "  * Auxiliares\n",
    "    * Dropout\n",
    "    * MaxPool2d\n",
    "    * BatchNorm2d\n",
    "    * LocalResponseNorm\n",
    "    * Flatten"
   ]
  },
  {
   "cell_type": "markdown",
   "metadata": {},
   "source": [
    "### Modelos secuenciales y funcionales\n",
    "\n",
    "Igual que en tensorflow tenemos los dos tipos de modelos. La elección depende del tipo de red que estemos construyendo.\n",
    "\n",
    "#### Modelo secuencial\n",
    "\n",
    "Las capas se van a aplicar secuencialmente una detrás de otra. Podemos especificar las capas en la propia inicialización del modelo Sequential o añadirlas con add_module.\n",
    "  \n",
    "```python\n",
    "self.layers = nn.Sequential(\n",
    "            nn.Linear(ni, nh),\n",
    "            nn.Sigmoid(),\n",
    "            nn.Linear(nh, no)\n",
    "        )\n",
    "```\n",
    "\n",
    "#### Modelo funcional\n",
    "\n",
    "Tenemos que hacer explícito cómo se aplican las capas dentro del forward.\n",
    "\n",
    "```python\n",
    "import torch.functional as F\n",
    "\n",
    "class LeNet(torch.nn.Module):\n",
    "\n",
    "    def __init__(self):\n",
    "        super(LeNet, self).__init__()\n",
    "        # 1 input image channel (black & white), 6 output channels, 5x5 square convolution\n",
    "        # kernel\n",
    "        self.conv1 = torch.nn.Conv2d(1, 6, 5) # in_channels, out_channels, kernel_size,\n",
    "        self.conv2 = torch.nn.Conv2d(6, 16, 3)\n",
    "        # an affine operation: y = Wx + b\n",
    "        self.fc1 = torch.nn.Linear(16 * 6 * 6, 120)  # 6*6 from image dimension\n",
    "        self.fc2 = torch.nn.Linear(120, 84)\n",
    "        self.fc3 = torch.nn.Linear(84, 10)\n",
    "\n",
    "    def forward(self, x):\n",
    "        # Max pooling over a (2, 2) window\n",
    "        x = F.max_pool2d(F.relu(self.conv1(x)), (2, 2))\n",
    "        # If the size is a square you can only specify a single number\n",
    "        x = F.max_pool2d(F.relu(self.conv2(x)), 2)\n",
    "        x = x.view(-1, self.num_flat_features(x)) # view es similar a resize, aunque en ciertas condiciones reshape puede crear copia del tensor\n",
    "        x = F.relu(self.fc1(x))\n",
    "        x = F.relu(self.fc2(x))\n",
    "        x = self.fc3(x)\n",
    "        return x\n",
    "```\n"
   ]
  },
  {
   "cell_type": "markdown",
   "metadata": {},
   "source": [
    "#### Manipulación de tensores: view, reshape, squeeze, unsqueeze\n",
    "\n",
    "  * view: es el método recomendado para cambiar las dimensiones de un tensor.\n",
    "  * reshape: similar pero puede ser menos eficiente.\n",
    "  * unsqueeze: inserta una dimensión de tamaño 1 en la posixión que indiquemos. Por ejemplo torch.unsqueeze(input, dim=1) convierte un vector en una matriz columna.\n",
    "  * squeeze: elimina las dimensiones de longitud 1, o en la dimensión que se indique como argumento."
   ]
  },
  {
   "cell_type": "code",
   "execution_count": null,
   "metadata": {},
   "outputs": [],
   "source": [
    "%pip install torch # instalación"
   ]
  },
  {
   "cell_type": "code",
   "execution_count": null,
   "metadata": {},
   "outputs": [],
   "source": [
    "import torch\n",
    "import torch.nn as nn"
   ]
  },
  {
   "cell_type": "code",
   "execution_count": null,
   "metadata": {},
   "outputs": [],
   "source": [
    "import torch\n",
    "\n",
    "def set_device ():\n",
    "    if torch.backends.mps.is_available(): # para usar con mac silicon\n",
    "        device = \"mps\"\n",
    "    elif torch.cuda.is_available():\n",
    "        device = \"cuda\"\n",
    "    else:\n",
    "        device = \"cpu\"\n",
    "    torch.set_default_device(device)\n",
    "    print(f\"Using {torch.device(device)} device\")\n",
    "    return torch.device(device)"
   ]
  },
  {
   "cell_type": "markdown",
   "metadata": {},
   "source": [
    "#### Tarea\n",
    "\n",
    "Obligatorio\n",
    "\n",
    "  * Construir un MLP con pytorch para resolver la XOR.\n",
    "  * Definir la función de trining para entrenarlo.\n",
    "  * Presentar los resultados.\n",
    "\n",
    "Opcional\n",
    "  * Aplicar a los datos suministrados para aproximnar la función seno.\n",
    "  * Modificar y aplicar a algun otro problema de los suministrados.\n",
    "  * Modificar la clase basic_MLP para que admita cualquier número de capas. La arquitectura se especificará con una lista [layer1_size, layer2_size, ...]"
   ]
  },
  {
   "cell_type": "markdown",
   "metadata": {},
   "source": [
    "### obligatorio"
   ]
  },
  {
   "cell_type": "code",
   "execution_count": null,
   "metadata": {},
   "outputs": [],
   "source": [
    "# Define un MLP básico con una sola capa oculta\n",
    "\n",
    "from torch import nn\n",
    "\n",
    "# Define model\n",
    "class basic_MLP (nn.Module):\n",
    "    def __init__(self, ni, nh, no): # input features, num neuronas capa oculta, output features\n",
    "        super().__init__()\n",
    "        self.layers = nn.Sequential(\n",
    "            nn.Linear(ni, nh),\n",
    "            nn.ReLU(),\n",
    "            nn.Linear(nh, no),\n",
    "            nn.Sigmoid()  ) #para la salida\n",
    "\n",
    "    def forward(self, x):\n",
    "        output = self.layers(x)\n",
    "        return output"
   ]
  },
  {
   "cell_type": "code",
   "execution_count": null,
   "metadata": {},
   "outputs": [],
   "source": [
    "# Datos XOR\n",
    "X = torch.tensor([[0, 0], [0, 1], [1, 0], [1, 1]], dtype=torch.float32)\n",
    "Y = torch.tensor([[0], [1], [1], [0]], dtype=torch.float32)\n"
   ]
  },
  {
   "cell_type": "code",
   "execution_count": null,
   "metadata": {},
   "outputs": [],
   "source": [
    "from torch.optim import Adam"
   ]
  },
  {
   "cell_type": "code",
   "execution_count": null,
   "metadata": {},
   "outputs": [],
   "source": [
    "model = basic_MLP(2, 15, 1)  # entrada: 2, ocultas: 12, out: 1\n",
    "loss_fn = nn.BCELoss()  # Binary Cross Entropy Loss clasific bin\n",
    "optimizer = Adam(model.parameters(), lr=0.01)"
   ]
  },
  {
   "cell_type": "code",
   "execution_count": null,
   "metadata": {},
   "outputs": [],
   "source": [
    "# Función de entrenamiento\n",
    "def training(X, Y, model, loss_fn, optimizer, epochs=1000, trace=100):\n",
    "    for epoch in range(epochs):\n",
    "        optimizer.zero_grad()\n",
    "        predictions = model(X)  #forward prop\n",
    "        loss = loss_fn(predictions, Y)  #perdida\n",
    "        loss.backward()  #back prop\n",
    "        optimizer.step()  #actualizar paramentros\n",
    "\n",
    "        if (epoch + 1) % trace == 0:\n",
    "            print(f\"epoch {epoch+1}/{epochs}, Loss: {loss.item():.6f}\")"
   ]
  },
  {
   "cell_type": "code",
   "execution_count": null,
   "metadata": {},
   "outputs": [
    {
     "name": "stdout",
     "output_type": "stream",
     "text": [
      "epoch 100/8000, Loss: 0.194560\n",
      "epoch 200/8000, Loss: 0.033463\n",
      "epoch 300/8000, Loss: 0.012746\n",
      "epoch 400/8000, Loss: 0.006760\n",
      "epoch 500/8000, Loss: 0.004207\n",
      "epoch 600/8000, Loss: 0.002876\n",
      "epoch 700/8000, Loss: 0.002093\n",
      "epoch 800/8000, Loss: 0.001591\n",
      "epoch 900/8000, Loss: 0.001249\n",
      "epoch 1000/8000, Loss: 0.001006\n",
      "epoch 1100/8000, Loss: 0.000826\n",
      "epoch 1200/8000, Loss: 0.000690\n",
      "epoch 1300/8000, Loss: 0.000584\n",
      "epoch 1400/8000, Loss: 0.000500\n",
      "epoch 1500/8000, Loss: 0.000432\n",
      "epoch 1600/8000, Loss: 0.000376\n",
      "epoch 1700/8000, Loss: 0.000330\n",
      "epoch 1800/8000, Loss: 0.000292\n",
      "epoch 1900/8000, Loss: 0.000259\n",
      "epoch 2000/8000, Loss: 0.000231\n",
      "epoch 2100/8000, Loss: 0.000207\n",
      "epoch 2200/8000, Loss: 0.000187\n",
      "epoch 2300/8000, Loss: 0.000169\n",
      "epoch 2400/8000, Loss: 0.000153\n",
      "epoch 2500/8000, Loss: 0.000139\n",
      "epoch 2600/8000, Loss: 0.000127\n",
      "epoch 2700/8000, Loss: 0.000116\n",
      "epoch 2800/8000, Loss: 0.000106\n",
      "epoch 2900/8000, Loss: 0.000097\n",
      "epoch 3000/8000, Loss: 0.000089\n",
      "epoch 3100/8000, Loss: 0.000082\n",
      "epoch 3200/8000, Loss: 0.000076\n",
      "epoch 3300/8000, Loss: 0.000070\n",
      "epoch 3400/8000, Loss: 0.000065\n",
      "epoch 3500/8000, Loss: 0.000060\n",
      "epoch 3600/8000, Loss: 0.000056\n",
      "epoch 3700/8000, Loss: 0.000052\n",
      "epoch 3800/8000, Loss: 0.000048\n",
      "epoch 3900/8000, Loss: 0.000045\n",
      "epoch 4000/8000, Loss: 0.000042\n",
      "epoch 4100/8000, Loss: 0.000039\n",
      "epoch 4200/8000, Loss: 0.000036\n",
      "epoch 4300/8000, Loss: 0.000034\n",
      "epoch 4400/8000, Loss: 0.000032\n",
      "epoch 4500/8000, Loss: 0.000030\n",
      "epoch 4600/8000, Loss: 0.000028\n",
      "epoch 4700/8000, Loss: 0.000026\n",
      "epoch 4800/8000, Loss: 0.000024\n",
      "epoch 4900/8000, Loss: 0.000023\n",
      "epoch 5000/8000, Loss: 0.000021\n",
      "epoch 5100/8000, Loss: 0.000020\n",
      "epoch 5200/8000, Loss: 0.000019\n",
      "epoch 5300/8000, Loss: 0.000018\n",
      "epoch 5400/8000, Loss: 0.000017\n",
      "epoch 5500/8000, Loss: 0.000016\n",
      "epoch 5600/8000, Loss: 0.000015\n",
      "epoch 5700/8000, Loss: 0.000014\n",
      "epoch 5800/8000, Loss: 0.000013\n",
      "epoch 5900/8000, Loss: 0.000012\n",
      "epoch 6000/8000, Loss: 0.000011\n",
      "epoch 6100/8000, Loss: 0.000011\n",
      "epoch 6200/8000, Loss: 0.000010\n",
      "epoch 6300/8000, Loss: 0.000010\n",
      "epoch 6400/8000, Loss: 0.000009\n",
      "epoch 6500/8000, Loss: 0.000008\n",
      "epoch 6600/8000, Loss: 0.000008\n",
      "epoch 6700/8000, Loss: 0.000008\n",
      "epoch 6800/8000, Loss: 0.000007\n",
      "epoch 6900/8000, Loss: 0.000007\n",
      "epoch 7000/8000, Loss: 0.000006\n",
      "epoch 7100/8000, Loss: 0.000006\n",
      "epoch 7200/8000, Loss: 0.000006\n",
      "epoch 7300/8000, Loss: 0.000005\n",
      "epoch 7400/8000, Loss: 0.000005\n",
      "epoch 7500/8000, Loss: 0.000005\n",
      "epoch 7600/8000, Loss: 0.000004\n",
      "epoch 7700/8000, Loss: 0.000004\n",
      "epoch 7800/8000, Loss: 0.000004\n",
      "epoch 7900/8000, Loss: 0.000004\n",
      "epoch 8000/8000, Loss: 0.000004\n"
     ]
    }
   ],
   "source": [
    "training(X, Y, model, loss_fn, optimizer, epochs=8000)"
   ]
  },
  {
   "cell_type": "code",
   "execution_count": null,
   "metadata": {},
   "outputs": [
    {
     "name": "stdout",
     "output_type": "stream",
     "text": [
      "predicciones XOR:\n",
      " tensor([[3.6906e-08],\n",
      "        [1.0000e+00],\n",
      "        [1.0000e+00],\n",
      "        [2.6501e-08]])\n"
     ]
    }
   ],
   "source": [
    "with torch.no_grad():\n",
    "    predictions = model(X)\n",
    "    print(\"predicciones XOR:\\n\", predictions) # es aprox [0, 1, 1, 0] (valor esperado)"
   ]
  },
  {
   "cell_type": "markdown",
   "metadata": {},
   "source": [
    "### opcional"
   ]
  },
  {
   "cell_type": "code",
   "execution_count": null,
   "metadata": {},
   "outputs": [
    {
     "data": {
      "image/png": "[encoded data removed]",
      "text/plain": [
       "<Figure size 640x480 with 1 Axes>"
      ]
     },
     "metadata": {},
     "output_type": "display_data"
    }
   ],
   "source": [
    "# Ejemplo, crea datos para y = sin(x)\n",
    "\n",
    "import math\n",
    "import numpy as np\n",
    "import matplotlib.pyplot as plt\n",
    "\n",
    "x = np.linspace(-math.pi, math.pi, 2000, dtype=np.float32)\n",
    "y = np.sin(x, dtype=np.float32)\n",
    "\n",
    "plt.plot(x,y)\n",
    "plt.show()"
   ]
  },
  {
   "cell_type": "code",
   "execution_count": null,
   "metadata": {},
   "outputs": [
    {
     "name": "stdout",
     "output_type": "stream",
     "text": [
      "Using cpu device\n",
      "tensor([ 8.7423e-08, -3.1432e-03, -6.2863e-03,  ...,  6.2863e-03,\n",
      "         3.1432e-03, -8.7423e-08])\n",
      "cpu\n",
      "cpu\n"
     ]
    }
   ],
   "source": [
    "# convertir tensores numpy a pytorch: torch.from_numpy()\n",
    "# convertir datos torch a numpy: X.cpu().numpy()\n",
    "# enviar datos a la GPU: X.to(device)\n",
    "\n",
    "device = set_device()\n",
    "\n",
    "X = torch.from_numpy(x) # convierte a torch\n",
    "Y = torch.from_numpy(y)\n",
    "\n",
    "print(Y)\n",
    "print(Y.device)\n",
    "\n",
    "Y = Y.to(device) # envía a GPU\n",
    "print(Y.device)"
   ]
  },
  {
   "cell_type": "code",
   "execution_count": null,
   "metadata": {},
   "outputs": [],
   "source": [
    "def train (X, Y, model, loss_fn, optimizer, epochs=1000, device='cpu', trace=100): # train sin batches\n",
    "    size = len(X)\n",
    "    model = model.to(device)\n",
    "    model.train() # indica que vamos a entrenar\n",
    "    # Xg, Yg = X.to(device), Y.to(device)\n",
    "\n",
    "    Xg = X.unsqueeze(1).to(device)  # Agregar una dimensión a X\n",
    "    Yg = Y.unsqueeze(1).to(device)  # Agregar una dimensión a Y\n",
    "\n",
    "\n",
    "    for e in range(epochs): # bucle de entrenamiento\n",
    "        optimizer.zero_grad() # reset gradients\n",
    "\n",
    "        pred = model(Xg) # propagate\n",
    "        loss = loss_fn(pred, Yg) # prediction error\n",
    "\n",
    "        loss.backward() # back propagation\n",
    "        optimizer.step() # update parameters\n",
    "\n",
    "        if (e+1) % trace == 0: # traces\n",
    "            loss, current = loss.item(), e+1\n",
    "            print(f\"loss: {loss:>7f}  [{current:>5d} /{epochs:>5d}]\")"
   ]
  },
  {
   "cell_type": "code",
   "execution_count": null,
   "metadata": {},
   "outputs": [
    {
     "name": "stdout",
     "output_type": "stream",
     "text": [
      "loss: 0.268697  [  100 / 1000]\n",
      "loss: 0.255957  [  200 / 1000]\n",
      "loss: 0.252568  [  300 / 1000]\n",
      "loss: 0.251496  [  400 / 1000]\n",
      "loss: 0.251105  [  500 / 1000]\n",
      "loss: 0.250930  [  600 / 1000]\n",
      "loss: 0.250829  [  700 / 1000]\n",
      "loss: 0.250754  [  800 / 1000]\n",
      "loss: 0.250691  [  900 / 1000]\n",
      "loss: 0.250635  [ 1000 / 1000]\n"
     ]
    }
   ],
   "source": [
    "# modelo para aprender la función seno\n",
    "\n",
    "model = basic_MLP(1, 500, 1)\n",
    "\n",
    "loss_fn = nn.MSELoss()\n",
    "optimizer = torch.optim.Adam(model.parameters())\n",
    "\n",
    "train(X, Y, model, loss_fn, optimizer, 1000, device= device , trace=100)"
   ]
  },
  {
   "cell_type": "code",
   "execution_count": null,
   "metadata": {},
   "outputs": [
    {
     "data": {
      "image/png": "[encoded data removed]",
      "text/plain": [
       "<Figure size 640x480 with 1 Axes>"
      ]
     },
     "metadata": {},
     "output_type": "display_data"
    }
   ],
   "source": [
    "model.eval()  # modo evaluación\n",
    "with torch.no_grad():\n",
    "    predictions = model(X.unsqueeze(1)).squeeze()\n",
    "\n",
    "plt.plot(x, y, label=\"Real\")\n",
    "plt.plot(x, predictions.numpy(), label=\"Predicted\")\n",
    "plt.legend()\n",
    "plt.show()\n"
   ]
  },
  {
   "cell_type": "markdown",
   "metadata": {},
   "source": [
    "como vemos que la función de pérdidda no baja apenas por cada 100 periodos vamos a modificar la funcion `basic_MLP` para que se ajuste al rango -1, 1"
   ]
  },
  {
   "cell_type": "code",
   "execution_count": null,
   "metadata": {},
   "outputs": [],
   "source": [
    "class basic_MLP(nn.Module):\n",
    "    def __init__(self, ni, nh, no):\n",
    "        super().__init__()\n",
    "        self.layers = nn.Sequential(\n",
    "            nn.Linear(ni, nh),\n",
    "            nn.Tanh(),          # Activación Tanh\n",
    "            nn.Linear(nh, nh),\n",
    "\n",
    "        )\n",
    "\n",
    "    def forward(self, x):\n",
    "        return self.layers(x)"
   ]
  },
  {
   "cell_type": "code",
   "execution_count": null,
   "metadata": {},
   "outputs": [
    {
     "name": "stdout",
     "output_type": "stream",
     "text": [
      "Using cpu device\n",
      "tensor([ 8.7423e-08, -3.1432e-03, -6.2863e-03,  ...,  6.2863e-03,\n",
      "         3.1432e-03, -8.7423e-08])\n",
      "cpu\n",
      "cpu\n"
     ]
    }
   ],
   "source": [
    "# convertir tensores numpy a pytorch: torch.from_numpy()\n",
    "# convertir datos torch a numpy: X.cpu().numpy()\n",
    "# enviar datos a la GPU: X.to(device)\n",
    "\n",
    "device = set_device()\n",
    "\n",
    "X = torch.from_numpy(x) # convierte a torch\n",
    "Y = torch.from_numpy(y)\n",
    "\n",
    "print(Y)\n",
    "print(Y.device)\n",
    "\n",
    "Y = Y.to(device) # envía a GPU\n",
    "print(Y.device)"
   ]
  },
  {
   "cell_type": "code",
   "execution_count": null,
   "metadata": {},
   "outputs": [],
   "source": [
    "def train (X, Y, model, loss_fn, optimizer, epochs=1000, device='cpu', trace=100): # train sin batches\n",
    "    size = len(X)\n",
    "    model = model.to(device)\n",
    "    model.train() # indica que vamos a entrenar\n",
    "    # Xg, Yg = X.to(device), Y.to(device)\n",
    "\n",
    "    Xg = X.unsqueeze(1).to(device)  # Agregar una dimensión a X\n",
    "    Yg = Y.unsqueeze(1).to(device)  # Agregar una dimensión a Y\n",
    "\n",
    "\n",
    "    for e in range(epochs): # bucle de entrenamiento\n",
    "        optimizer.zero_grad() # reset gradients\n",
    "\n",
    "        pred = model(Xg) # propagate\n",
    "        loss = loss_fn(pred, Yg) # prediction error\n",
    "\n",
    "        loss.backward() # back propagation\n",
    "        optimizer.step() # update parameters\n",
    "\n",
    "        if (e+1) % trace == 0: # traces\n",
    "            loss, current = loss.item(), e+1\n",
    "            print(f\"loss: {loss:>7f}  [{current:>5d} /{epochs:>5d}]\")"
   ]
  },
  {
   "cell_type": "code",
   "execution_count": null,
   "metadata": {},
   "outputs": [
    {
     "name": "stdout",
     "output_type": "stream",
     "text": [
      "loss: 0.012829  [  100 / 1000]\n",
      "loss: 0.002588  [  200 / 1000]\n",
      "loss: 0.000836  [  300 / 1000]\n",
      "loss: 0.000379  [  400 / 1000]\n",
      "loss: 0.000184  [  500 / 1000]\n",
      "loss: 0.000095  [  600 / 1000]\n",
      "loss: 0.000054  [  700 / 1000]\n",
      "loss: 0.000033  [  800 / 1000]\n",
      "loss: 0.000022  [  900 / 1000]\n",
      "loss: 0.000015  [ 1000 / 1000]\n"
     ]
    }
   ],
   "source": [
    "# modelo para aprender la función seno\n",
    "\n",
    "model = basic_MLP(1, 500, 1)\n",
    "\n",
    "loss_fn = nn.MSELoss()\n",
    "optimizer = torch.optim.Adam(model.parameters())\n",
    "\n",
    "train(X, Y, model, loss_fn, optimizer, 1000, device= device , trace=100)"
   ]
  },
  {
   "cell_type": "code",
   "execution_count": null,
   "metadata": {},
   "outputs": [
    {
     "data": {
      "image/png": "[encoded data removed]",
      "text/plain": [
       "<Figure size 640x480 with 1 Axes>"
      ]
     },
     "metadata": {},
     "output_type": "display_data"
    }
   ],
   "source": [
    "model.eval()  # modo evaluación\n",
    "with torch.no_grad():\n",
    "    predictions = model(X.unsqueeze(1)).squeeze()\n",
    "\n",
    "plt.plot(x, y, label=\"Real\")\n",
    "plt.plot(x, predictions.numpy(), label=\"Predicted\")\n",
    "plt.legend()\n",
    "plt.show()\n"
   ]
  },
  {
   "cell_type": "markdown",
   "metadata": {},
   "source": [
    "la predicción se ajusta sorprendentemente bien. No obstante, el tiempo de ejecuciñon es muy elevado. Vamos a probar otro tipo de modificaciones como desactivar la capa de salida par que esta sea continua"
   ]
  },
  {
   "cell_type": "code",
   "execution_count": null,
   "metadata": {},
   "outputs": [],
   "source": [
    "class basic_MLP(nn.Module):\n",
    "    def __init__(self, ni, nh, no):\n",
    "        super().__init__()\n",
    "        self.layers = nn.Sequential(\n",
    "            nn.Linear(ni, nh),\n",
    "            nn.Tanh(),\n",
    "            nn.Linear(nh, no)  # sin activacion para salida continua\n",
    "        )\n",
    "\n",
    "    def forward(self, x):\n",
    "        return self.layers(x)\n"
   ]
  },
  {
   "cell_type": "code",
   "execution_count": null,
   "metadata": {},
   "outputs": [
    {
     "name": "stdout",
     "output_type": "stream",
     "text": [
      "Using cpu device\n",
      "tensor([ 1.1921e-07, -3.1432e-03, -6.2863e-03,  ...,  6.2863e-03,\n",
      "         3.1433e-03, -5.9605e-08])\n",
      "cpu\n",
      "cpu\n"
     ]
    }
   ],
   "source": [
    "x = np.linspace(-np.pi, np.pi, 2000, dtype=np.float32)\n",
    "y = np.sin(x, dtype=np.float32)\n",
    "\n",
    "x = (x - x.min()) / (x.max() - x.min()) * 2 - 1\n",
    "y = (y - y.min()) / (y.max() - y.min()) * 2 - 1  # escalar entre -1 y 1\n",
    "\n",
    "\n",
    "device = set_device()\n",
    "\n",
    "X = torch.from_numpy(x) # convierte a torch\n",
    "Y = torch.from_numpy(y)\n",
    "\n",
    "print(Y)\n",
    "print(Y.device)\n",
    "\n",
    "Y = Y.to(device) # envía a GPU\n",
    "print(Y.device)"
   ]
  },
  {
   "cell_type": "code",
   "execution_count": null,
   "metadata": {},
   "outputs": [
    {
     "name": "stdout",
     "output_type": "stream",
     "text": [
      "loss: 0.175866  [  100 / 1000]\n",
      "loss: 0.144126  [  200 / 1000]\n",
      "loss: 0.089048  [  300 / 1000]\n",
      "loss: 0.028343  [  400 / 1000]\n",
      "loss: 0.002842  [  500 / 1000]\n",
      "loss: 0.000123  [  600 / 1000]\n",
      "loss: 0.000035  [  700 / 1000]\n",
      "loss: 0.000029  [  800 / 1000]\n",
      "loss: 0.000048  [  900 / 1000]\n",
      "loss: 0.000040  [ 1000 / 1000]\n"
     ]
    }
   ],
   "source": [
    "model = basic_MLP(1, 500, 1)\n",
    "\n",
    "loss_fn = nn.MSELoss()\n",
    "optimizer = torch.optim.Adam(model.parameters())\n",
    "\n",
    "train(X, Y, model, loss_fn, optimizer, 1000, device= device , trace=100)"
   ]
  },
  {
   "cell_type": "code",
   "execution_count": null,
   "metadata": {},
   "outputs": [
    {
     "data": {
      "image/png": "[encoded data removed]",
      "text/plain": [
       "<Figure size 640x480 with 1 Axes>"
      ]
     },
     "metadata": {},
     "output_type": "display_data"
    }
   ],
   "source": [
    "model.eval()  # modo evaluación\n",
    "with torch.no_grad():\n",
    "    predictions = model(X.unsqueeze(1)).squeeze()\n",
    "\n",
    "plt.plot(x, y, label=\"Real\")\n",
    "plt.plot(x, predictions.numpy(), label=\"Predicted\")\n",
    "plt.legend()\n",
    "plt.show()"
   ]
  },
  {
   "cell_type": "markdown",
   "metadata": {},
   "source": [
    "vameos que practicamente se solapan tanto la prediccion como el real."
   ]
  },
  {
   "cell_type": "markdown",
   "metadata": {},
   "source": [
    "modificación función `basic_MLP`"
   ]
  },
  {
   "cell_type": "code",
   "execution_count": null,
   "metadata": {},
   "outputs": [],
   "source": [
    "class basic_MLP_modified(nn.Module):\n",
    "    def __init__(self, layer_sizes):\n",
    "        super().__init__()\n",
    "        layers = []\n",
    "        for i in range(len(layer_sizes) - 1):\n",
    "            layers.append(nn.Linear(layer_sizes[i], layer_sizes[i + 1]))\n",
    "            if i < len(layer_sizes) - 2:  #solo entre capas ocultas\n",
    "                layers.append(nn.ReLU())\n",
    "        self.layers = nn.Sequential(*layers)\n",
    "\n",
    "    def forward(self, x):\n",
    "        return self.layers(x)\n"
   ]
  },
  {
   "cell_type": "code",
   "execution_count": null,
   "metadata": {},
   "outputs": [],
   "source": [
    "def train_modified(X, Y, model, loss_fn, optimizer, epochs=1000, trace=100):\n",
    "    for epoch in range(epochs):\n",
    "        optimizer.zero_grad()\n",
    "        predictions = torch.sigmoid(model(X))   #forward prop\n",
    "        loss = loss_fn(predictions, Y)  #perdida\n",
    "        loss.backward()  #back prop\n",
    "        optimizer.step()  #actualizar paramentros\n",
    "\n",
    "        if (epoch + 1) % trace == 0:\n",
    "            print(f\"epoch {epoch+1}/{epochs}, Loss: {loss.item():.6f}\")"
   ]
  },
  {
   "cell_type": "code",
   "execution_count": null,
   "metadata": {},
   "outputs": [],
   "source": [
    "# Datos XOR\n",
    "X = torch.tensor([[0, 0], [0, 1], [1, 0], [1, 1]], dtype=torch.float32)\n",
    "Y = torch.tensor([[0], [1], [1], [0]], dtype=torch.float32)\n",
    "\n",
    "model = basic_MLP_modified([2, 12, 15, 1])\n",
    "\n",
    "# Definir función de pérdida y optimizador\n",
    "loss_fn = nn.BCELoss()  # Binary Cross Entropy Loss\n",
    "optimizer = Adam(model.parameters(), lr=0.01)"
   ]
  },
  {
   "cell_type": "code",
   "execution_count": null,
   "metadata": {},
   "outputs": [
    {
     "name": "stdout",
     "output_type": "stream",
     "text": [
      "epoch 100/1000, Loss: 0.002756\n",
      "epoch 200/1000, Loss: 0.000802\n",
      "epoch 300/1000, Loss: 0.000387\n",
      "epoch 400/1000, Loss: 0.000228\n",
      "epoch 500/1000, Loss: 0.000150\n",
      "epoch 600/1000, Loss: 0.000106\n",
      "epoch 700/1000, Loss: 0.000079\n",
      "epoch 800/1000, Loss: 0.000061\n",
      "epoch 900/1000, Loss: 0.000048\n",
      "epoch 1000/1000, Loss: 0.000039\n"
     ]
    }
   ],
   "source": [
    "train_modified(X, Y, model, loss_fn, optimizer)"
   ]
  },
  {
   "cell_type": "code",
   "execution_count": null,
   "metadata": {},
   "outputs": [
    {
     "name": "stdout",
     "output_type": "stream",
     "text": [
      "tensor([[4.2780e-05],\n",
      "        [9.9996e-01],\n",
      "        [9.9996e-01],\n",
      "        [3.9738e-05]])\n"
     ]
    }
   ],
   "source": [
    "with torch.no_grad():\n",
    "    predictions = torch.sigmoid(model(X))  # Aplicar Sigmoid a la salida\n",
    "    print(predictions) # casi 1 los valores cntrales y un número muy equeño (cercao a 0) en los extremos -> aprox [0, 1, 1, 0]"
   ]
  }
 ],
 "metadata": {
  "kernelspec": {
   "display_name": "Python 3",
   "language": "python",
   "name": "python3"
  },
  "language_info": {
   "codemirror_mode": {
    "name": "ipython",
    "version": 3
   },
   "file_extension": ".py",
   "mimetype": "text/x-python",
   "name": "python",
   "nbconvert_exporter": "python",
   "pygments_lexer": "ipython3",
   "version": "3.12.6"
  }
 },
 "nbformat": 4,
 "nbformat_minor": 2
}
